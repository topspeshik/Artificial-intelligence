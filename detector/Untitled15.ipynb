{
  "nbformat": 4,
  "nbformat_minor": 0,
  "metadata": {
    "colab": {
      "provenance": [],
      "gpuType": "T4"
    },
    "kernelspec": {
      "name": "python3",
      "display_name": "Python 3"
    },
    "language_info": {
      "name": "python"
    },
    "accelerator": "GPU",
    "gpuClass": "standard"
  },
  "cells": [
    {
      "cell_type": "code",
      "execution_count": 15,
      "metadata": {
        "id": "8fv5JpmjFwlA"
      },
      "outputs": [],
      "source": [
        "import numpy\n",
        "import tensorflow as tf\n",
        "import matplotlib.pyplot as plt\n",
        "import numpy as np\n",
        "import math\n",
        "import cv2\n",
        "from tensorflow import keras\n",
        "from tensorflow.keras.models import Model\n",
        "from keras.applications import vgg19\n",
        "from keras.models import Sequential\n",
        "from tensorflow.keras.layers import Dense, Conv2D, MaxPool2D, Flatten, UpSampling2D, Input, Activation,Dropout,MaxPooling2D\n",
        "from tensorflow.keras.preprocessing.image import load_img, array_to_img, img_to_array, save_img\n",
        "from tensorflow.keras.preprocessing import image_dataset_from_directory\n",
        "from tensorflow.keras import callbacks, optimizers\n",
        "from tensorflow.keras import losses\n",
        "from tqdm import tqdm\n",
        "from IPython.display import Image, display\n",
        "from keras.preprocessing.image import ImageDataGenerator\n",
        "\n"
      ]
    },
    {
      "cell_type": "code",
      "source": [
        "datagen = ImageDataGenerator(rotation_range=30, \n",
        "                             width_shift_range=0.1,\n",
        "                             height_shift_range=0.1,\n",
        "                             rescale=1./255,\n",
        "                             zoom_range=0.2,\n",
        "                             fill_mode=\"nearest\",\n",
        "                             horizontal_flip=True,\n",
        "                             vertical_flip=True)\n",
        "\n"
      ],
      "metadata": {
        "id": "-uv2O0ZuMOCG"
      },
      "execution_count": 16,
      "outputs": []
    },
    {
      "cell_type": "code",
      "source": [
        "import glob\n",
        "import os\n",
        "human_path = \"tr/\"\n",
        "train_datagen = datagen.flow_from_directory(\n",
        "        human_path,\n",
        "        target_size=(250, 250),\n",
        "        batch_size=50,\n",
        "        class_mode='binary')"
      ],
      "metadata": {
        "colab": {
          "base_uri": "https://localhost:8080/"
        },
        "id": "fdUqtYAbMR3E",
        "outputId": "25bd6d52-2b64-4222-af1f-0ad23bee97e6"
      },
      "execution_count": 17,
      "outputs": [
        {
          "output_type": "stream",
          "name": "stdout",
          "text": [
            "Found 804 images belonging to 2 classes.\n"
          ]
        }
      ]
    },
    {
      "cell_type": "code",
      "source": [
        "input_shape = (250, 250,3)\n",
        "model = Sequential()\n",
        "model.add(Conv2D(filters=64, kernel_size=(3,3), input_shape=input_shape, activation=\"relu\"))\n",
        "model.add(MaxPooling2D(pool_size=(2,2)))\n",
        "\n",
        "model.add(Conv2D(filters=64, kernel_size=(3,3), activation=\"relu\"))\n",
        "model.add(MaxPooling2D(pool_size=(2,2)))\n",
        "\n",
        "model.add(Conv2D(filters=128, kernel_size=(3,3), activation=\"relu\"))\n",
        "model.add(MaxPooling2D(pool_size=(2,2)))\n",
        "model.add(Flatten())\n",
        "model.add(Dense(64))\n",
        "model.add(Activation(\"relu\"))\n",
        "model.add(Dropout(0.5))\n",
        "model.add(Dense(1))\n",
        "model.add(Activation(\"sigmoid\"))\n",
        "\n",
        "model.summary()"
      ],
      "metadata": {
        "colab": {
          "base_uri": "https://localhost:8080/"
        },
        "id": "wLEX2rAeMWXS",
        "outputId": "6d859246-84d5-453d-8299-9a97b92a2395"
      },
      "execution_count": 18,
      "outputs": [
        {
          "output_type": "stream",
          "name": "stdout",
          "text": [
            "Model: \"sequential_2\"\n",
            "_________________________________________________________________\n",
            " Layer (type)                Output Shape              Param #   \n",
            "=================================================================\n",
            " conv2d_6 (Conv2D)           (None, 248, 248, 64)      1792      \n",
            "                                                                 \n",
            " max_pooling2d_6 (MaxPooling  (None, 124, 124, 64)     0         \n",
            " 2D)                                                             \n",
            "                                                                 \n",
            " conv2d_7 (Conv2D)           (None, 122, 122, 64)      36928     \n",
            "                                                                 \n",
            " max_pooling2d_7 (MaxPooling  (None, 61, 61, 64)       0         \n",
            " 2D)                                                             \n",
            "                                                                 \n",
            " conv2d_8 (Conv2D)           (None, 59, 59, 128)       73856     \n",
            "                                                                 \n",
            " max_pooling2d_8 (MaxPooling  (None, 29, 29, 128)      0         \n",
            " 2D)                                                             \n",
            "                                                                 \n",
            " flatten_2 (Flatten)         (None, 107648)            0         \n",
            "                                                                 \n",
            " dense_4 (Dense)             (None, 64)                6889536   \n",
            "                                                                 \n",
            " activation_4 (Activation)   (None, 64)                0         \n",
            "                                                                 \n",
            " dropout_2 (Dropout)         (None, 64)                0         \n",
            "                                                                 \n",
            " dense_5 (Dense)             (None, 1)                 65        \n",
            "                                                                 \n",
            " activation_5 (Activation)   (None, 1)                 0         \n",
            "                                                                 \n",
            "=================================================================\n",
            "Total params: 7,002,177\n",
            "Trainable params: 7,002,177\n",
            "Non-trainable params: 0\n",
            "_________________________________________________________________\n"
          ]
        }
      ]
    },
    {
      "cell_type": "code",
      "source": [
        "\n",
        "model.compile(loss=\"binary_crossentropy\", optimizer=\"adam\", metrics=[\"accuracy\"])\n",
        "\n",
        "train_gen = datagen.flow_from_directory(\"train\", target_size=(250,250),\n",
        "                                    batch_size=50, class_mode=\"binary\")\n",
        "\n",
        "\n",
        "\n",
        "model.fit(train_datagen, \n",
        "          epochs=20, \n",
        "          steps_per_epoch=5, \n",
        "          validation_data=train_gen,\n",
        "          validation_steps=7\n",
        ")\n"
      ],
      "metadata": {
        "colab": {
          "base_uri": "https://localhost:8080/"
        },
        "id": "wRoxIPevMYmM",
        "outputId": "78d2c060-da4f-4689-cd5a-9db3aa4ec0eb"
      },
      "execution_count": 19,
      "outputs": [
        {
          "output_type": "stream",
          "name": "stdout",
          "text": [
            "Found 0 images belonging to 1 classes.\n",
            "Epoch 1/20\n",
            "5/5 [==============================] - 7s 808ms/step - loss: 0.9612 - accuracy: 0.5240\n",
            "Epoch 2/20\n",
            "5/5 [==============================] - 5s 947ms/step - loss: 0.6893 - accuracy: 0.5720\n",
            "Epoch 3/20\n",
            "5/5 [==============================] - 4s 659ms/step - loss: 0.6776 - accuracy: 0.6225\n",
            "Epoch 4/20\n",
            "5/5 [==============================] - 4s 681ms/step - loss: 0.6516 - accuracy: 0.5833\n",
            "Epoch 5/20\n",
            "5/5 [==============================] - 6s 1s/step - loss: 0.6701 - accuracy: 0.6080\n",
            "Epoch 6/20\n",
            "5/5 [==============================] - 5s 890ms/step - loss: 0.6344 - accuracy: 0.6080\n",
            "Epoch 7/20\n",
            "5/5 [==============================] - 6s 1s/step - loss: 0.5919 - accuracy: 0.6560\n",
            "Epoch 8/20\n",
            "5/5 [==============================] - 4s 888ms/step - loss: 0.4858 - accuracy: 0.8080\n",
            "Epoch 9/20\n",
            "5/5 [==============================] - 5s 1s/step - loss: 0.4129 - accuracy: 0.8088\n",
            "Epoch 10/20\n",
            "5/5 [==============================] - 4s 672ms/step - loss: 0.4725 - accuracy: 0.7549\n",
            "Epoch 11/20\n",
            "5/5 [==============================] - 5s 891ms/step - loss: 0.3418 - accuracy: 0.8440\n",
            "Epoch 12/20\n",
            "5/5 [==============================] - 5s 897ms/step - loss: 0.2908 - accuracy: 0.9080\n",
            "Epoch 13/20\n",
            "5/5 [==============================] - 4s 668ms/step - loss: 0.1840 - accuracy: 0.9461\n",
            "Epoch 14/20\n",
            "5/5 [==============================] - 6s 1s/step - loss: 0.1588 - accuracy: 0.9400\n",
            "Epoch 15/20\n",
            "5/5 [==============================] - 4s 685ms/step - loss: 0.2246 - accuracy: 0.9510\n",
            "Epoch 16/20\n",
            "5/5 [==============================] - 4s 856ms/step - loss: 0.2767 - accuracy: 0.9167\n",
            "Epoch 17/20\n",
            "5/5 [==============================] - 5s 876ms/step - loss: 0.1703 - accuracy: 0.9440\n",
            "Epoch 18/20\n",
            "5/5 [==============================] - 5s 926ms/step - loss: 0.2097 - accuracy: 0.9160\n",
            "Epoch 19/20\n",
            "5/5 [==============================] - 5s 892ms/step - loss: 0.1737 - accuracy: 0.9640\n",
            "Epoch 20/20\n",
            "5/5 [==============================] - 4s 693ms/step - loss: 0.1505 - accuracy: 0.9804\n"
          ]
        },
        {
          "output_type": "execute_result",
          "data": {
            "text/plain": [
              "<keras.callbacks.History at 0x7f5444032a10>"
            ]
          },
          "metadata": {},
          "execution_count": 19
        }
      ]
    },
    {
      "cell_type": "code",
      "source": [
        "model.save('model1.h5')\n"
      ],
      "metadata": {
        "id": "jSxtSwFcMbJ9"
      },
      "execution_count": 20,
      "outputs": []
    },
    {
      "cell_type": "code",
      "source": [],
      "metadata": {
        "id": "jg5_k6PVOY1X"
      },
      "execution_count": 20,
      "outputs": []
    }
  ]
}